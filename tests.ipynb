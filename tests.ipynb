{
 "cells": [
  {
   "cell_type": "code",
   "id": "initial_id",
   "metadata": {
    "collapsed": true,
    "ExecuteTime": {
     "end_time": "2024-12-15T01:43:21.866796Z",
     "start_time": "2024-12-15T01:43:21.407834Z"
    }
   },
   "source": [
    "from telethon import TelegramClient\n",
    "import asyncio\n",
    "\n",
    "api_id = 19890265\n",
    "api_hash = '1a1fb40bc6fb9e6475f443742f4c4fe5'\n",
    "phone = '+381631899159'\n",
    "password = 'sact0cugh0lick!GRAW'  # Ваш пароль для 2FA\n",
    "\n",
    "client = TelegramClient('session_name', api_id, api_hash)\n",
    "\n",
    "async def main():\n",
    "    await client.start(phone)\n",
    "    if await client.is_user_authorized():\n",
    "        print(\"Уже авторизован\")\n",
    "    else:\n",
    "        await client.send_code_request(phone)\n",
    "        code = input('Введите код: ')\n",
    "        try:\n",
    "            await client.sign_in(phone, code)\n",
    "        except Exception as e:\n",
    "            if 'PASSWORD_HASH_INVALID' in str(e):\n",
    "                await client.sign_in(password=password)\n",
    "    print(\"Авторизация успешна\")\n",
    "\n",
    "asyncio.run(main())\n"
   ],
   "outputs": [
    {
     "ename": "RuntimeError",
     "evalue": "asyncio.run() cannot be called from a running event loop",
     "output_type": "error",
     "traceback": [
      "\u001B[0;31m---------------------------------------------------------------------------\u001B[0m",
      "\u001B[0;31mRuntimeError\u001B[0m                              Traceback (most recent call last)",
      "Cell \u001B[0;32mIn[1], line 25\u001B[0m\n\u001B[1;32m     22\u001B[0m                 \u001B[38;5;28;01mawait\u001B[39;00m client\u001B[38;5;241m.\u001B[39msign_in(password\u001B[38;5;241m=\u001B[39mpassword)\n\u001B[1;32m     23\u001B[0m     \u001B[38;5;28mprint\u001B[39m(\u001B[38;5;124m\"\u001B[39m\u001B[38;5;124mАвторизация успешна\u001B[39m\u001B[38;5;124m\"\u001B[39m)\n\u001B[0;32m---> 25\u001B[0m asyncio\u001B[38;5;241m.\u001B[39mrun(main())\n",
      "File \u001B[0;32m/opt/anaconda3/lib/python3.11/asyncio/runners.py:186\u001B[0m, in \u001B[0;36mrun\u001B[0;34m(main, debug)\u001B[0m\n\u001B[1;32m    161\u001B[0m \u001B[38;5;250m\u001B[39m\u001B[38;5;124;03m\"\"\"Execute the coroutine and return the result.\u001B[39;00m\n\u001B[1;32m    162\u001B[0m \n\u001B[1;32m    163\u001B[0m \u001B[38;5;124;03mThis function runs the passed coroutine, taking care of\u001B[39;00m\n\u001B[0;32m   (...)\u001B[0m\n\u001B[1;32m    182\u001B[0m \u001B[38;5;124;03m    asyncio.run(main())\u001B[39;00m\n\u001B[1;32m    183\u001B[0m \u001B[38;5;124;03m\"\"\"\u001B[39;00m\n\u001B[1;32m    184\u001B[0m \u001B[38;5;28;01mif\u001B[39;00m events\u001B[38;5;241m.\u001B[39m_get_running_loop() \u001B[38;5;129;01mis\u001B[39;00m \u001B[38;5;129;01mnot\u001B[39;00m \u001B[38;5;28;01mNone\u001B[39;00m:\n\u001B[1;32m    185\u001B[0m     \u001B[38;5;66;03m# fail fast with short traceback\u001B[39;00m\n\u001B[0;32m--> 186\u001B[0m     \u001B[38;5;28;01mraise\u001B[39;00m \u001B[38;5;167;01mRuntimeError\u001B[39;00m(\n\u001B[1;32m    187\u001B[0m         \u001B[38;5;124m\"\u001B[39m\u001B[38;5;124masyncio.run() cannot be called from a running event loop\u001B[39m\u001B[38;5;124m\"\u001B[39m)\n\u001B[1;32m    189\u001B[0m \u001B[38;5;28;01mwith\u001B[39;00m Runner(debug\u001B[38;5;241m=\u001B[39mdebug) \u001B[38;5;28;01mas\u001B[39;00m runner:\n\u001B[1;32m    190\u001B[0m     \u001B[38;5;28;01mreturn\u001B[39;00m runner\u001B[38;5;241m.\u001B[39mrun(main)\n",
      "\u001B[0;31mRuntimeError\u001B[0m: asyncio.run() cannot be called from a running event loop"
     ]
    }
   ],
   "execution_count": 1
  },
  {
   "metadata": {
    "ExecuteTime": {
     "end_time": "2024-12-07T23:49:56.168911Z",
     "start_time": "2024-12-07T23:49:55.105527Z"
    }
   },
   "cell_type": "code",
   "source": [
    "import requests\n",
    "from bs4 import BeautifulSoup\n",
    "\n",
    "response = requests.get(url)\n",
    "html_content = response.text\n",
    "\n",
    "soup = BeautifulSoup(html_content, 'html.parser')\n",
    "tables = soup.find_all('table')"
   ],
   "id": "bd80b365f61a1335",
   "outputs": [],
   "execution_count": 5
  },
  {
   "metadata": {
    "ExecuteTime": {
     "end_time": "2024-12-07T23:50:47.429123Z",
     "start_time": "2024-12-07T23:50:47.424308Z"
    }
   },
   "cell_type": "code",
   "source": [
    "extracted_tables = []\n",
    "\n",
    "for tab in tables:\n",
    "    # Пытаемся найти caption\n",
    "    caption_tag = tab.find('caption')\n",
    "    caption = caption_tag.get_text(strip=True) if caption_tag else None\n",
    "    \n",
    "    # Пытаемся определить заголовки столбцов:\n",
    "    # Ищем thead или берем первую строку tr\n",
    "    headers = []\n",
    "    thead = tab.find('thead')\n",
    "    if thead:\n",
    "        header_row = thead.find('tr')\n",
    "        if header_row:\n",
    "            headers = [th.get_text(strip=True) for th in header_row.find_all(['th','td'])]\n",
    "    else:\n",
    "        # Если нет thead, берем первую tr в tbody или напрямую в table\n",
    "        first_row = tab.find('tr')\n",
    "        if first_row:\n",
    "            headers = [th.get_text(strip=True) for th in first_row.find_all(['th','td'])]\n",
    "    \n",
    "    # Извлекаем все остальные строки\n",
    "    rows = []\n",
    "    all_tr = tab.find_all('tr')\n",
    "    # Пропускаем первую строку если она заголовочная\n",
    "    data_rows = all_tr[1:] if len(all_tr) > 1 else []\n",
    "    \n",
    "    for r in data_rows:\n",
    "        cells = [td.get_text(strip=True) for td in r.find_all(['td','th'])]\n",
    "        rows.append(cells)\n",
    "    \n",
    "    extracted_tables.append({\n",
    "        \"caption\": caption,\n",
    "        \"headers\": headers,\n",
    "        \"rows\": rows,\n",
    "    })"
   ],
   "id": "74fbdc27681a4623",
   "outputs": [],
   "execution_count": 15
  },
  {
   "metadata": {
    "ExecuteTime": {
     "end_time": "2024-12-07T23:50:54.105697Z",
     "start_time": "2024-12-07T23:50:54.101342Z"
    }
   },
   "cell_type": "code",
   "source": "extracted_tables",
   "id": "9095cb6fd87db717",
   "outputs": [
    {
     "data": {
      "text/plain": [
       "[{'caption': None,\n",
       "  'headers': ['Реквизиты корпоративного действия'],\n",
       "  'rows': [['Референс корпоративного действия', '806764'],\n",
       "   ['Код типа корпоративного действия', 'MEET'],\n",
       "   ['Тип корпоративного действия', 'Годовое общее собрание акционеров'],\n",
       "   ['Дата КД (факт.)', '06 июня 2023 г.'],\n",
       "   ['Дата фиксации', '12 мая 2023 г.'],\n",
       "   ['Форма проведения собрания', 'Заочная']]},\n",
       " {'caption': None,\n",
       "  'headers': ['Информация о ценных бумагах'],\n",
       "  'rows': [['Референс КД по ценной бумаге',\n",
       "    'Эмитент',\n",
       "    'Регистрационный номер',\n",
       "    'Дата регистрации',\n",
       "    'Категория',\n",
       "    'Депозитарный код выпуска',\n",
       "    'ISIN',\n",
       "    'Реестродержатель'],\n",
       "   ['806764X23120',\n",
       "    'Акционерное общество \"Ульяновская сетевая компания\"',\n",
       "    '1-01-03826-E',\n",
       "    '02 октября 2006 г.',\n",
       "    'акции обыкновенные',\n",
       "    'RU000A0JUY39',\n",
       "    'RU000A0JUY39',\n",
       "    'АО \"НРК - Р.О.С.Т.\"']]}]"
      ]
     },
     "execution_count": 16,
     "metadata": {},
     "output_type": "execute_result"
    }
   ],
   "execution_count": 16
  },
  {
   "metadata": {},
   "cell_type": "code",
   "outputs": [],
   "execution_count": 12,
   "source": [
    "extracted_tables\n",
    "\n",
    "# Сохраняем результат в JSON для удобства дальнейшей ручной разметки\n",
    "import json\n",
    "with open(\"parsed_tables.json\", \"w\", encoding=\"utf-8\") as f:\n",
    "    json.dump(extracted_tables, f, ensure_ascii=False, indent=2)\n"
   ],
   "id": "e9179304aa62c1b9"
  }
 ],
 "metadata": {
  "kernelspec": {
   "display_name": "Python 3",
   "language": "python",
   "name": "python3"
  },
  "language_info": {
   "codemirror_mode": {
    "name": "ipython",
    "version": 2
   },
   "file_extension": ".py",
   "mimetype": "text/x-python",
   "name": "python",
   "nbconvert_exporter": "python",
   "pygments_lexer": "ipython2",
   "version": "2.7.6"
  }
 },
 "nbformat": 4,
 "nbformat_minor": 5
}
